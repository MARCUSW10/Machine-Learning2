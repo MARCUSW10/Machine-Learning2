{
 "cells": [
  {
   "cell_type": "code",
   "execution_count": 1,
   "metadata": {
    "collapsed": true
   },
   "outputs": [],
   "source": [
    "from sklearn.externals.joblib import Memory\n",
    "from sklearn.datasets import load_svmlight_file\n",
    "mem=Memory(\"./mycache\")\n",
    "\n",
    "@mem.cache\n",
    "def get_training_data():\n",
    "    data=load_svmlight_file(\"D:\\Ipython_data\\A9a.txt\")\n",
    "    return data[0],data[1]\n",
    "x_train,y_train=get_training_data()\n",
    "def get_testing_data():\n",
    "    data=load_svmlight_file(\"D:\\Ipython_data\\A9at.txt\")\n",
    "    return data[0],data[1]\n",
    "x_test,y_test=get_testing_data()"
   ]
  },
  {
   "cell_type": "code",
   "execution_count": 2,
   "metadata": {
    "collapsed": true
   },
   "outputs": [],
   "source": [
    "class LinearClassification(object):\n",
    "    def __init__(self,Learning_rate=0.003,epoch=8):\n",
    "        self.Learning_rate=Learning_rate\n",
    "        self.epoch=epoch\n",
    "\n",
    "    def fit_nag(self,x,Y,threshold,C):\n",
    "        self.w=np.zeros((1,1+x.shape[1]))\n",
    "        self.v=np.zeros((1,x.shape[1]))\n",
    "        self.cost_list=[]\n",
    "        self.threshold=threshold\n",
    "        self.C=C\n",
    "        self.y=0.09\n",
    "        for i in range(self.epoch):\n",
    "            cost=0\n",
    "            for j in range(x.shape[0]):\n",
    "                output=self.Classification_input(x[j,:],self.threshold)\n",
    "                if(output!=Y[j]):\n",
    "                    #计算动量项\n",
    "                    t=Y[j]*(x[j,:])\n",
    "                    #print('t.shape:',t.shape)\n",
    "                    #print('self.w.shape:',self.w.shape)\n",
    "                    #print('self.v.shape:',self.v.shape)\n",
    "                    #print('self.y.shape:',self.y.shape)\n",
    "                    dwv=-self.C*t+self.w[0,1:]-self.y*self.v\n",
    "                    self.v=self.y*self.v+self.Learning_rate*dwv\n",
    "                    \n",
    "                    #计算cost值\n",
    "                    cost+=(1-Y[j]*output)\n",
    "                    #print('cost:',cost)\n",
    "                    #更新w\n",
    "                    self.w[0,1:]=self.w[0,1:]-self.v\n",
    "                    self.w[0,0]=self.w[0,0]-self.v.sum()\n",
    "            self.w1=self.w.T\n",
    "            cost=cost+(self.w*self.w1).sum()/2\n",
    "            self.cost_list.append(cost)\n",
    "        return self\n",
    "                    \n",
    "    def fit_adadelta(self,x,Y,threshold,C):\n",
    "        self.e=10**(-8)\n",
    "        self.cost_list=[]\n",
    "        self.w=np.zeros((1,1+x.shape[1]))\n",
    "        self.v=np.zeros((1,1+x.shape[1]))\n",
    "        self.threshold=threshold\n",
    "        self.C=C\n",
    "        self.y=0.9\n",
    "        for i in range(self.epoch):\n",
    "            cost=0\n",
    "            for j in range(x.shape[0]):\n",
    "                output=self.Classification_input(x[j,:],self.threshold)\n",
    "                if(output!=Y[j]):\n",
    "                    #计算梯度gt\n",
    "                    t=Y[j]*(x[j,:])\n",
    "                    g=self.w[0,1:]-self.C*t\n",
    "                    \n",
    "                    #计算E[g^2]t\n",
    "                    g1=g.T\n",
    "                    E=(g*g1).sum()\n",
    "                    \n",
    "                    #计算RMS[g]t\n",
    "                    RMSgt=np.sqrt(self.e+E)\n",
    "                    \n",
    "                    #计算dθt,保留学习率\n",
    "                    dw=(-self.Learning_rate/RMSgt)*g\n",
    "                    \n",
    "                    #计算E[dw^2]t-1\n",
    "                    dw1=dw.T\n",
    "                    Edwt=(dw*dw1).sum()\n",
    "                    \n",
    "                    #计算RMS[dw]t-1\n",
    "                    RMSwt1=np.sqrt(Edwt+self.e)\n",
    "                    \n",
    "                    #计算dθt,去除学习率\n",
    "                    dwt=-(RMSwt1/RMSgt)*g\n",
    "                    \n",
    "                    #计算E[dw^2]t,dw1是dw转置\n",
    "                    dw1=dw.T\n",
    "                    Edwt=self.y*Edwt+(1-self.y)*((dw*dw1).sum())\n",
    "                    \n",
    "                    #计算cost\n",
    "                    cost+=(1-Y[j]*output)\n",
    "                    \n",
    "                    #更新w\n",
    "                    self.w[0,1:]=self.w[0,1:]+dwt\n",
    "                    self.w[0,0]=self.w[0,0]+dwt.sum()\n",
    "            self.w1=self.w.T\n",
    "            cost=cost+(self.w*self.w1).sum()/2\n",
    "            self.cost_list.append(cost)\n",
    "        return self\n",
    "    \n",
    "    def fit_rms(self,x,Y,threshold,C):\n",
    "        self.e=10**(-8)\n",
    "        self.cost_list=[]\n",
    "        self.w=np.zeros((1,1+x.shape[1]))\n",
    "        self.v=np.zeros((1,1+x.shape[1]))\n",
    "        self.threshold=threshold\n",
    "        self.C=C\n",
    "        self.y=0.9\n",
    "        for i in range(self.epoch):\n",
    "            cost=0\n",
    "            for j in range(x.shape[0]):\n",
    "                output=self.Classification_input(x[j,:],self.threshold)\n",
    "                if(output!=Y[j]):\n",
    "                    #计算梯度gt\n",
    "                    t=Y[j]*(x[j,:])\n",
    "                    g=self.w[0,1:]-self.C*t\n",
    "                    \n",
    "                    #计算E[g^2]t\n",
    "                    g1=g.T\n",
    "                    E=(g*g1).sum()\n",
    "                    \n",
    "                    #计算RMS[g]t\n",
    "                    RMSgt=np.sqrt(self.e+E)\n",
    "                    \n",
    "                    #计算dw\n",
    "                    dw=(-self.Learning_rate/RMSgt)*g\n",
    "                    \n",
    "                    #计算cost\n",
    "                    cost+=(1-Y[j]*output)\n",
    "                    \n",
    "                    #更新w\n",
    "                    self.w[0,1:]=self.w[0,1:]+dw\n",
    "                    self.w[0,0]=self.w[0,0]+dw.sum()\n",
    "            self.w1=self.w.T\n",
    "            cost=cost+(self.w*self.w1).sum()/2\n",
    "            self.cost_list.append(cost)\n",
    "        return self \n",
    "    \n",
    "    def fit_Adam(self,x,Y,threshold,C):\n",
    "        self.e=10**(-8)\n",
    "        self.cost_list=[]\n",
    "        self.w=np.zeros((1,1+x.shape[1]))\n",
    "        self.m=np.zeros((1,x.shape[1]))\n",
    "        self.v=0\n",
    "        self.C=C\n",
    "        self.threshold=threshold\n",
    "        self.p1=0.9\n",
    "        self.p2=0.999\n",
    "        for i in range(self.epoch):\n",
    "            cost=0\n",
    "            for j in range(x.shape[1]):\n",
    "                output=self.Classification_input(x[j,:],self.threshold)\n",
    "                if(output!=Y[i]):\n",
    "                    #计算梯度gt\n",
    "                    t=Y[j]*(x[j,:])\n",
    "                    g=self.w[0,1:]-self.C*t\n",
    "                    \n",
    "                    #计算m\n",
    "                    self.m=self.m*self.p1+(1-self.p1)*g\n",
    "                    \n",
    "                    #计算m的修正误差M\n",
    "                    M=self.m/(1-(self.p1**(j+1)))\n",
    "                    \n",
    "                    #计算v\n",
    "                    g1=g.T\n",
    "                    G=(g1*g).sum()\n",
    "                    self.v=self.v*self.p2+(1-self.p2)*G\n",
    "                    \n",
    "                    #计算V\n",
    "                    V=self.v/(1-(self.p2**(j+1)))\n",
    "                    \n",
    "                    #计算cost\n",
    "                    cost+=(1-Y[j]*output)\n",
    "                    \n",
    "                    #计算W\n",
    "                    self.w[0,1:]=self.w[0,1:]-(self.Learning_rate/(np.sqrt(V)+self.e))*M\n",
    "                    self.w[0,0]=self.w[0,0]-((self.Learning_rate/(np.sqrt(V)+self.e))*M).sum()\n",
    "            self.w1=self.w.T\n",
    "            cost=cost+(self.w*self.w1).sum()/2\n",
    "            print(cost)\n",
    "            self.cost_list.append(cost)\n",
    "        return self \n",
    "                    \n",
    "    \n",
    "    def Classification_input(self,x,threshold):\n",
    "        #print('x.shape:',x.shape)\n",
    "        #print('w[0,1:].shape:',self.w[0,1:].shape)\n",
    "        f=x*self.w[0,1:]+self.w[0,0]\n",
    "        if(f>=threshold):\n",
    "            return 1\n",
    "        else:\n",
    "            return -1"
   ]
  },
  {
   "cell_type": "code",
   "execution_count": 5,
   "metadata": {},
   "outputs": [
    {
     "data": {
      "image/png": "[encoded data removed]",
      "text/plain": [
       "<matplotlib.figure.Figure at 0x4631835470>"
      ]
     },
     "metadata": {},
     "output_type": "display_data"
    }
   ],
   "source": [
    "import numpy as np\n",
    "import matplotlib.pyplot as plt\n",
    "model3=LinearClassification()\n",
    "model3.fit_nag(x_train,y_train,0,0.01)\n",
    "model4=LinearClassification()\n",
    "model4.fit_nag(x_test,y_test,0,0.01)\n",
    "\n",
    "plt.plot(range(1,model3.epoch+1),model3.cost_list,'b-',range(1,model4.epoch+1),model4.cost_list,'g-')\n",
    "plt.ylabel('Loss')\n",
    "plt.xlabel('Epoch')\n",
    "plt.show()"
   ]
  },
  {
   "cell_type": "code",
   "execution_count": 6,
   "metadata": {},
   "outputs": [
    {
     "data": {
      "image/png": "[encoded data removed]",
      "text/plain": [
       "<matplotlib.figure.Figure at 0x463317d5c0>"
      ]
     },
     "metadata": {},
     "output_type": "display_data"
    }
   ],
   "source": [
    "model5=LinearClassification()\n",
    "model5.fit_adadelta(x_train,y_train,0,1)\n",
    "model6=LinearClassification()\n",
    "model6.fit_adadelta(x_test,y_test,0,1)\n",
    "\n",
    "plt.plot(range(1,model5.epoch+1),model5.cost_list,'b-',range(1,model6.epoch+1),model6.cost_list,'g-')\n",
    "plt.ylabel('Loss')\n",
    "plt.xlabel('Epoch')\n",
    "plt.show()"
   ]
  },
  {
   "cell_type": "code",
   "execution_count": 7,
   "metadata": {},
   "outputs": [
    {
     "data": {
      "image/png": "[encoded data removed]",
      "text/plain": [
       "<matplotlib.figure.Figure at 0x46342b0cf8>"
      ]
     },
     "metadata": {},
     "output_type": "display_data"
    }
   ],
   "source": [
    "model7=LinearClassification()\n",
    "model7.fit_rms(x_train,y_train,0,1)\n",
    "model8=LinearClassification()\n",
    "model8.fit_rms(x_test,y_test,0,1)\n",
    "\n",
    "plt.plot(range(1,model7.epoch+1),model7.cost_list,'b-',range(1,model8.epoch+1),model8.cost_list,'g-')\n",
    "plt.ylabel('Loss')\n",
    "plt.xlabel('Epoch')\n",
    "plt.show()"
   ]
  },
  {
   "cell_type": "code",
   "execution_count": 8,
   "metadata": {},
   "outputs": [
    {
     "name": "stdout",
     "output_type": "stream",
     "text": [
      "2.000018\n",
      "1.79999974286e-05\n",
      "1.79999974286e-05\n",
      "1.79999974286e-05\n",
      "1.79999974286e-05\n",
      "1.79999974286e-05\n",
      "1.79999974286e-05\n",
      "62.0079309721\n",
      "2.000018\n",
      "1.79999974286e-05\n",
      "52.0166004217\n",
      "52.0162744666\n",
      "0.0162744665706\n",
      "0.0162744665706\n",
      "0.0162744665706\n",
      "52.0159020944\n"
     ]
    },
    {
     "data": {
      "image/png": "[encoded data removed]",
      "text/plain": [
       "<matplotlib.figure.Figure at 0x4631fdd780>"
      ]
     },
     "metadata": {},
     "output_type": "display_data"
    }
   ],
   "source": [
    "model9=LinearClassification()\n",
    "model9.fit_Adam(x_train,y_train,0,0.01)\n",
    "model10=LinearClassification()\n",
    "model10.fit_Adam(x_test,y_test,0,0.01)\n",
    "\n",
    "plt.plot(range(1,model9.epoch+1),model9.cost_list,'b-',range(1,model10.epoch+1),model10.cost_list,'g-')\n",
    "plt.ylabel('Loss')\n",
    "plt.xlabel('Epoch')\n",
    "plt.show()"
   ]
  },
  {
   "cell_type": "code",
   "execution_count": null,
   "metadata": {
    "collapsed": true
   },
   "outputs": [],
   "source": []
  }
 ],
 "metadata": {
  "kernelspec": {
   "display_name": "Python 3",
   "language": "python",
   "name": "python3"
  },
  "language_info": {
   "codemirror_mode": {
    "name": "ipython",
    "version": 3
   },
   "file_extension": ".py",
   "mimetype": "text/x-python",
   "name": "python",
   "nbconvert_exporter": "python",
   "pygments_lexer": "ipython3",
   "version": "3.6.3"
  }
 },
 "nbformat": 4,
 "nbformat_minor": 2
}
